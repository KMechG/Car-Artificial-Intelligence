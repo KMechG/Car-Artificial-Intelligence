{
  "nbformat": 4,
  "nbformat_minor": 0,
  "metadata": {
    "colab": {
      "name": "trafficSign.ipynb",
      "provenance": [],
      "collapsed_sections": [],
      "include_colab_link": true
    },
    "kernelspec": {
      "name": "python3",
      "display_name": "Python 3"
    },
    "language_info": {
      "name": "python"
    }
  },
  "cells": [
    {
      "cell_type": "markdown",
      "metadata": {
        "id": "view-in-github",
        "colab_type": "text"
      },
      "source": [
        "<a href=\"https://colab.research.google.com/github/KMechG/Car-Artificial-Intelligence/blob/main/trafficSign.ipynb\" target=\"_parent\"><img src=\"https://colab.research.google.com/assets/colab-badge.svg\" alt=\"Open In Colab\"/></a>"
      ]
    },
    {
      "cell_type": "code",
      "source": [
        "!git clone https://github.com/pjreddie/darknet\n",
        "%cd darknet\n",
        "!make"
      ],
      "metadata": {
        "id": "03nrCyyAMrNI"
      },
      "execution_count": null,
      "outputs": []
    },
    {
      "cell_type": "code",
      "source": [
        "!wget https://pjreddie.com/media/files/yolov3.weights "
      ],
      "metadata": {
        "id": "Z8NoGxI8M0IP"
      },
      "execution_count": null,
      "outputs": []
    },
    {
      "cell_type": "code",
      "source": [
        "!./darknet detect cfg/yolov3.cfg yolov3.weights data/dog.jpg"
      ],
      "metadata": {
        "id": "I-M3QSo7M3db"
      },
      "execution_count": null,
      "outputs": []
    },
    {
      "cell_type": "code",
      "source": [
        "!./darknet detector demo cfg/coco.data cfg/yolov3.cfg yolov3.weights"
      ],
      "metadata": {
        "id": "t1T3fdDwOd6Y"
      },
      "execution_count": null,
      "outputs": []
    },
    {
      "cell_type": "code",
      "execution_count": 11,
      "metadata": {
        "id": "uaH_KFYnFPhc"
      },
      "outputs": [],
      "source": [
        "import cv2\n",
        "import numpy as np\n",
        "from google.colab.patches import cv2_imshow\n",
        "import numpy as np # linear algebra\n",
        "import pandas as pd # data processing, CSV file I/O (e.g. pd.read_csv)\n",
        "\n",
        "import time\n",
        "from timeit import default_timer as timer\n",
        "import matplotlib.pyplot as plt\n",
        "import pickle\n",
        "\n",
        "from keras.models import load_model\n",
        "\n",
        "# Input data files are available in the \"../input/\" directory.\n",
        "# For example, running this (by clicking run or pressing Shift+Enter) will list all files under the input directory\n",
        "\n",
        "import os\n",
        "\n",
        "#print(os.listdir('/content/sample_data/input'))\n",
        "\n",
        "#Read Video\n",
        "\n",
        "vcap = cv2.VideoCapture(\"/content/20141025_141223_1097_1247.avi\")\n",
        "\n",
        "# Writer that will be used to write processed frames\n",
        "writer = None\n",
        "\n",
        "# Variables for spatial dimensions of the frames\n",
        "h, w = None, None\n",
        "\n",
        "\n",
        "\n",
        "\n",
        "\n",
        "\n",
        "\n"
      ]
    },
    {
      "cell_type": "code",
      "source": [
        "#Proceed Frame\n",
        "if vcap.isOpened(): \n",
        "    width  = vcap.get(cv2.CAP_PROP_FRAME_WIDTH)   # float `width`\n",
        "    height = vcap.get(cv2.CAP_PROP_FRAME_HEIGHT)  # float `height`\n",
        "    \n",
        "\n",
        "    print('width, height:', width, height)\n",
        "    \n",
        "    fps = vcap.get(cv2.CAP_PROP_FPS)\n",
        "    \n",
        "    \n",
        "    print('fps:', fps)  # float `fps`\n",
        "    \n",
        "    frame_count = vcap.get(cv2.CAP_PROP_FRAME_COUNT)\n",
        "    \n",
        "    \n",
        "    print('frames count:', frame_count)  # float `frame_count`\n",
        "    print('cv2.CAP_PROP_FRAME_WIDTH :', cv2.CAP_PROP_FRAME_WIDTH)   # 3\n",
        "    print('cv2.CAP_PROP_FRAME_HEIGHT:', cv2.CAP_PROP_FRAME_HEIGHT)  # 4\n",
        "    print('cv2.CAP_PROP_FPS         :', cv2.CAP_PROP_FPS)           # 5\n",
        "    print('cv2.CAP_PROP_FRAME_COUNT :', cv2.CAP_PROP_FRAME_COUNT)   # 7\n"
      ],
      "metadata": {
        "id": "3mZi2Cru55g3"
      },
      "execution_count": null,
      "outputs": []
    },
    {
      "cell_type": "code",
      "source": [
        "# Save framme as image\n",
        "\n",
        "i=0\n",
        "while(vcap.isOpened()):\n",
        "    ret, frame = vcap.read()\n",
        "    frame = cv2.resize(frame, (540, 380), fx = 0, fy = 0,\n",
        "                         interpolation = cv2.INTER_CUBIC)\n",
        " \n",
        "    # Display the resulting frame\n",
        "    cv2.imshow('Frame', frame)\n",
        "    if ret == False:\n",
        "        break\n",
        "    cv2.imwrite('/content/sample_data/input/car'+str(i)+'.png',frame)\n",
        "    # Display the resulting frame\n",
        "    \n",
        "    i+=1\n",
        " \n",
        "vcap.release()\n",
        "cv2.destroyAllWindows()\n",
        "#image_BGR = cv2.imread('/content/sample_data/input/car54.png')\n",
        "#print(image_BGR)"
      ],
      "metadata": {
        "id": "yNMIMD_o6IBI"
      },
      "execution_count": null,
      "outputs": []
    },
    {
      "cell_type": "code",
      "source": [
        "#Processing single image\n",
        "# Display the resulting frame\n",
        "while (vcap.isOpened()):\n",
        " \n",
        "    # Capture frame-by-frame\n",
        "    ret, frame = vcap.read()\n",
        "    frame = cv2.resize(frame, (540, 380), fx = 0, fy = 0,\n",
        "                         interpolation = cv2.INTER_CUBIC)\n",
        " \n",
        "    # Display the resulting frame\n",
        "    cv2.imshow('Frame', frame)\n",
        " \n",
        "    # conversion of BGR to grayscale is necessary to apply this operation\n",
        "    gray = cv2.cvtColor(frame, cv2.COLOR_BGR2GRAY)\n",
        " \n",
        "    # adaptive thresholding to use different threshold\n",
        "    # values on different regions of the frame.\n",
        "    Thresh = cv2.adaptiveThreshold(gray, 255, cv2.ADAPTIVE_THRESH_MEAN_C,\n",
        "                                           cv2.THRESH_BINARY_INV, 11, 2)\n",
        " \n",
        "    cv2.imshow('Thresh', Thresh)\n",
        "    # define q as the exit button\n",
        "    if cv2.waitKey(25) & 0xFF == ord('q'):\n",
        "        break\n",
        " \n",
        "# release the video capture object\n",
        "vcap.release()\n",
        "# Closes all the windows currently opened.\n",
        "cv2.destroyAllWindows()"
      ],
      "metadata": {
        "id": "Pcc5ulqn6bp6"
      },
      "execution_count": null,
      "outputs": []
    },
    {
      "cell_type": "code",
      "source": [
        "net = cv2.dnn.readNet('/content/sample_data/darknet/yolov3.weights','/content/sample_data/darknet/cfg/yolov3.cfg')\n",
        "classes = []\n",
        "with open('/content/sample_data/darknet/data/coco.names','r') as f:\n",
        "  classes = f.read().splitlines()\n",
        "print(classes)  \n",
        "\n"
      ],
      "metadata": {
        "id": "EfbJu8p3Ruqn",
        "outputId": "35045a28-2de4-4797-8fd4-0437960a484a",
        "colab": {
          "base_uri": "https://localhost:8080/"
        }
      },
      "execution_count": 22,
      "outputs": [
        {
          "output_type": "stream",
          "name": "stdout",
          "text": [
            "['person', 'bicycle', 'car', 'motorbike', 'aeroplane', 'bus', 'train', 'truck', 'boat', 'c', 'fire hydrant', 'stop sign', 'parking meter', 'bench', 'bird', 'cat', 'dog', 'horse', 'sheep', 'cow', 'elephant', 'bear', 'zebra', 'giraffe', 'backpack', 'umbrella', 'handbag', 'tie', 'suitcase', 'frisbee', 'skis', 'snowboard', 'sports ball', 'kite', 'baseball bat', 'baseball glove', 'skateboard', 'surfboard', 'tennis racket', 'bottle', 'wine glass', 'cup', 'fork', 'knife', 'spoon', 'bowl', 'banana', 'apple', 'sandwich', 'orange', 'broccoli', 'carrot', 'hot dog', 'pizza', 'donut', 'cake', 'chair', 'sofa', 'pottedplant', 'bed', 'diningtable', 'toilet', 'tvmonitor', 'laptop', 'mouse', 'remote', 'keyboard', 'cell phone', 'microwave', 'oven', 'toaster', 'sink', 'refrigerator', 'book', 'clock', 'vase', 'scissors', 'teddy bear', 'hair drier', 'toothbrush']\n"
          ]
        }
      ]
    }
  ]
}